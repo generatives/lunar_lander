{
 "cells": [
  {
   "cell_type": "code",
   "execution_count": 19,
   "metadata": {},
   "outputs": [],
   "source": [
    "import imageio\n",
    "import IPython\n",
    "import matplotlib.pyplot as plt\n",
    "import numpy as np\n",
    "\n",
    "import tensorflow as tf\n",
    "\n",
    "from tf_agents.agents.dqn import dqn_agent\n",
    "from tf_agents.drivers import dynamic_step_driver\n",
    "from tf_agents.environments import suite_gym\n",
    "from tf_agents.environments import tf_py_environment\n",
    "from tf_agents.networks import sequential\n",
    "from tf_agents.specs import tensor_spec\n",
    "from tf_agents.utils import common\n",
    "from tf_agents.replay_buffers import tf_uniform_replay_buffer\n",
    "from IPython.display import Video\n",
    "from tf_agents.metrics import tf_metrics\n",
    "from tf_agents.eval.metric_utils import log_metrics"
   ]
  },
  {
   "cell_type": "code",
   "execution_count": 17,
   "metadata": {},
   "outputs": [],
   "source": [
    "def create_policy_eval_video(policy, env, filename, num_episodes=5, fps=30):\n",
    "  filename = filename + \".mp4\"\n",
    "  with imageio.get_writer(filename, fps=fps) as video:\n",
    "    for _ in range(num_episodes):\n",
    "      time_step = env.reset()\n",
    "      video.append_data(tf.squeeze(env.render()).numpy())\n",
    "      steps = 0\n",
    "      while not time_step.is_last():\n",
    "        action_step = policy.action(time_step)\n",
    "        time_step = env.step(action_step.action)\n",
    "        video.append_data(tf.squeeze(env.render()).numpy())\n",
    "        steps = steps + 1\n",
    "      print(f\"ep: {steps}\")\n",
    "  return Video(filename)"
   ]
  },
  {
   "cell_type": "code",
   "execution_count": 3,
   "metadata": {},
   "outputs": [],
   "source": [
    "def compute_avg_return(environment, policy, num_episodes=10):\n",
    "\n",
    "  total_return = 0.0\n",
    "  for _ in range(num_episodes):\n",
    "\n",
    "    time_step = environment.reset()\n",
    "    episode_return = 0.0\n",
    "\n",
    "    while not time_step.is_last():\n",
    "      action_step = policy.action(time_step)\n",
    "      time_step = environment.step(action_step.action)\n",
    "      episode_return += time_step.reward\n",
    "    total_return += episode_return\n",
    "\n",
    "  avg_return = total_return / num_episodes\n",
    "  return avg_return.numpy()[0]"
   ]
  },
  {
   "cell_type": "code",
   "execution_count": 70,
   "metadata": {},
   "outputs": [],
   "source": [
    "def graph_returns(returns, timesteps):\n",
    "    plt.plot(timesteps, returns)\n",
    "    plt.ylabel('Average Return')\n",
    "    plt.xlabel('Iterations')"
   ]
  },
  {
   "cell_type": "code",
   "execution_count": 5,
   "metadata": {},
   "outputs": [],
   "source": [
    "env_name = \"LunarLander-v2\"\n",
    "train_py_env = suite_gym.load(env_name)\n",
    "train_env = tf_py_environment.TFPyEnvironment(train_py_env)\n",
    "\n",
    "eval_py_env = suite_gym.load(env_name)\n",
    "eval_env = tf_py_environment.TFPyEnvironment(eval_py_env)"
   ]
  },
  {
   "cell_type": "code",
   "execution_count": 60,
   "metadata": {},
   "outputs": [],
   "source": [
    "fc_layer_params = (48, 24)\n",
    "learning_rate = 0.001\n",
    "\n",
    "action_tensor_spec = tensor_spec.from_spec(train_env.action_spec())\n",
    "num_actions = action_tensor_spec.maximum - action_tensor_spec.minimum + 1\n",
    "\n",
    "# Define a helper function to create Dense layers configured with the right\n",
    "# activation and kernel initializer.\n",
    "def dense_layer(num_units):\n",
    "  return tf.keras.layers.Dense(\n",
    "      num_units,\n",
    "      activation=tf.keras.activations.relu)\n",
    "\n",
    "# QNetwork consists of a sequence of Dense layers followed by a dense layer\n",
    "# with `num_actions` units to generate one q_value per available action as\n",
    "# its output.\n",
    "dense_layers = [dense_layer(num_units) for num_units in fc_layer_params]\n",
    "q_values_layer = tf.keras.layers.Dense(\n",
    "    num_actions,\n",
    "    activation=None)\n",
    "q_net = sequential.Sequential(dense_layers + [q_values_layer])\n",
    "\n",
    "optimizer = tf.keras.optimizers.Adam(learning_rate=learning_rate)\n",
    "\n",
    "train_step_counter = tf.Variable(0)\n",
    "\n",
    "epsilon_fn = tf.keras.optimizers.schedules.PolynomialDecay(initial_learning_rate=0.5, end_learning_rate=0.01, decay_steps=25000)\n",
    "\n",
    "agent = dqn_agent.DqnAgent(\n",
    "    train_env.time_step_spec(),\n",
    "    train_env.action_spec(),\n",
    "    q_network=q_net,\n",
    "    optimizer=optimizer,\n",
    "    target_update_period=50,\n",
    "    gamma=0.95,\n",
    "    td_errors_loss_fn=common.element_wise_squared_loss,\n",
    "    train_step_counter=train_step_counter,\n",
    "    epsilon_greedy=lambda: epsilon_fn(train_step_counter))\n",
    "\n",
    "agent.initialize()\n",
    "\n",
    "# (Optional) Optimize by wrapping some of the code in a graph using TF function.\n",
    "agent.train = common.function(agent.train)"
   ]
  },
  {
   "cell_type": "code",
   "execution_count": 61,
   "metadata": {},
   "outputs": [],
   "source": [
    "replay_buffer_capacity = 10000 # @param {type:\"integer\"}\n",
    "batch_size = 64  # @param {type:\"integer\"}\n",
    "\n",
    "replay_buffer = tf_uniform_replay_buffer.TFUniformReplayBuffer(\n",
    "    agent.collect_data_spec,\n",
    "    batch_size=train_env.batch_size,\n",
    "    max_length=replay_buffer_capacity)\n",
    "\n",
    "dataset = replay_buffer.as_dataset(\n",
    "    num_parallel_calls=3,\n",
    "    sample_batch_size=batch_size,\n",
    "    num_steps=2,\n",
    "    single_deterministic_pass=False).prefetch(3)\n",
    "\n",
    "iterator = iter(dataset)"
   ]
  },
  {
   "cell_type": "code",
   "execution_count": 64,
   "metadata": {},
   "outputs": [],
   "source": [
    "def train(agent, train_env, dataset_iterator, returns = [], timesteps = [], collect_steps_per_iteration=20, num_iterations=25000, eval_interval=200):\n",
    "    \n",
    "    metrics = [\n",
    "        tf_metrics.NumberOfEpisodes(),\n",
    "        tf_metrics.EnvironmentSteps(),\n",
    "        tf_metrics.AverageReturnMetric(buffer_size=10),\n",
    "        tf_metrics.AverageReturnMetric(buffer_size=30),\n",
    "        tf_metrics.AverageReturnMetric(buffer_size=100),\n",
    "        tf_metrics.AverageEpisodeLengthMetric()\n",
    "    ]\n",
    "\n",
    "    # Reset the environment.\n",
    "    time_step = train_env.reset()\n",
    "\n",
    "    # Create a driver to collect experience.\n",
    "    collect_driver = dynamic_step_driver.DynamicStepDriver(\n",
    "        train_env,\n",
    "        agent.collect_policy,\n",
    "        observers=[replay_buffer.add_batch] + metrics,\n",
    "        num_steps=collect_steps_per_iteration)\n",
    "\n",
    "    for i in range(num_iterations):\n",
    "        # Collect a few steps and save to the replay buffer.\n",
    "        time_step, _ = collect_driver.run(time_step)\n",
    "\n",
    "        # Sample a batch of data from the buffer and update the agent's network.\n",
    "        experience, unused_info = next(dataset_iterator)\n",
    "        train_loss = agent.train(experience).loss\n",
    "\n",
    "        step = agent.train_step_counter.numpy()\n",
    "\n",
    "        if step % eval_interval == 0:\n",
    "            print(f\"E: {metrics[0].result()}, I: {i}, R10: {metrics[2].result():.2f}, E30: {metrics[3].result():.2f}, R100: {metrics[4].result():.2f}, AEL: {metrics[5].result()}\")\n",
    "            returns.append(metrics[3].result().numpy())\n",
    "            timesteps.append(train_step_counter.numpy())"
   ]
  },
  {
   "cell_type": "code",
   "execution_count": 65,
   "metadata": {},
   "outputs": [
    {
     "data": {
      "text/plain": [
       "<tf.Variable 'UnreadVariable' shape=() dtype=int32, numpy=0>"
      ]
     },
     "execution_count": 65,
     "metadata": {},
     "output_type": "execute_result"
    }
   ],
   "source": [
    "training_returns = []\n",
    "training_timesteps = []\n",
    "# Reset the train step.\n",
    "agent.train_step_counter.assign(0)"
   ]
  },
  {
   "cell_type": "code",
   "execution_count": 66,
   "metadata": {},
   "outputs": [
    {
     "name": "stdout",
     "output_type": "stream",
     "text": [
      "E: 38, I: 199, R10: -184.85, E30: -202.48, R100: -205.13, AEL: 116.80000305175781\n",
      "E: 69, I: 399, R10: -182.16, E30: -245.57, R100: -218.70, AEL: 108.5999984741211\n",
      "E: 94, I: 599, R10: -211.54, E30: -178.83, R100: -210.84, AEL: 152.6999969482422\n",
      "E: 108, I: 799, R10: -157.06, E30: -165.93, R100: -198.69, AEL: 216.6999969482422\n",
      "E: 121, I: 999, R10: -160.84, E30: -144.16, R100: -199.37, AEL: 290.20001220703125\n",
      "E: 142, I: 1199, R10: -102.71, E30: -138.66, R100: -176.55, AEL: 170.39999389648438\n",
      "E: 156, I: 1399, R10: -157.06, E30: -142.32, R100: -154.41, AEL: 225.8000030517578\n",
      "E: 169, I: 1599, R10: -178.97, E30: -159.38, R100: -156.45, AEL: 354.79998779296875\n",
      "E: 184, I: 1799, R10: -167.89, E30: -166.17, R100: -153.23, AEL: 291.0\n",
      "E: 202, I: 1999, R10: -136.32, E30: -166.99, R100: -153.22, AEL: 188.5\n",
      "E: 218, I: 2199, R10: -156.78, E30: -157.85, R100: -155.61, AEL: 273.70001220703125\n",
      "E: 230, I: 2399, R10: -83.66, E30: -120.38, R100: -148.00, AEL: 355.3999938964844\n",
      "E: 246, I: 2599, R10: -124.18, E30: -104.48, R100: -144.66, AEL: 258.8999938964844\n",
      "E: 264, I: 2799, R10: -106.64, E30: -122.15, R100: -139.48, AEL: 238.0\n",
      "E: 278, I: 2999, R10: -68.40, E30: -102.94, R100: -128.54, AEL: 299.79998779296875\n",
      "E: 286, I: 3199, R10: -100.21, E30: -89.55, R100: -122.99, AEL: 513.0\n",
      "E: 297, I: 3399, R10: -106.11, E30: -95.82, R100: -110.74, AEL: 347.79998779296875\n",
      "E: 310, I: 3599, R10: -132.21, E30: -119.03, R100: -108.56, AEL: 285.29998779296875\n",
      "E: 318, I: 3799, R10: -87.28, E30: -108.26, R100: -104.67, AEL: 511.8999938964844\n",
      "E: 329, I: 3999, R10: -128.89, E30: -114.02, R100: -108.40, AEL: 290.6000061035156\n",
      "E: 340, I: 4199, R10: -111.66, E30: -109.66, R100: -109.71, AEL: 374.1000061035156\n",
      "E: 353, I: 4399, R10: -130.21, E30: -127.48, R100: -111.98, AEL: 273.5\n",
      "E: 365, I: 4599, R10: -128.05, E30: -126.72, R100: -111.96, AEL: 334.20001220703125\n",
      "E: 372, I: 4799, R10: -60.32, E30: -113.86, R100: -109.51, AEL: 588.5999755859375\n",
      "E: 380, I: 4999, R10: -84.80, E30: -103.87, R100: -112.61, AEL: 496.6000061035156\n",
      "E: 384, I: 5199, R10: -85.64, E30: -81.92, R100: -107.05, AEL: 659.0\n",
      "E: 396, I: 5399, R10: -99.41, E30: -76.88, R100: -104.49, AEL: 305.8999938964844\n",
      "E: 404, I: 5599, R10: -71.54, E30: -85.53, R100: -100.54, AEL: 448.3999938964844\n",
      "E: 412, I: 5799, R10: -0.56, E30: -58.35, R100: -92.67, AEL: 466.70001220703125\n",
      "E: 419, I: 5999, R10: -44.47, E30: -60.48, R100: -91.99, AEL: 549.7999877929688\n",
      "E: 426, I: 6199, R10: -59.18, E30: -44.52, R100: -85.04, AEL: 511.70001220703125\n",
      "E: 441, I: 6399, R10: -73.41, E30: -69.80, R100: -80.94, AEL: 215.8000030517578\n",
      "E: 453, I: 6599, R10: -66.67, E30: -81.11, R100: -74.34, AEL: 318.1000061035156\n",
      "E: 463, I: 6799, R10: -75.33, E30: -79.33, R100: -68.02, AEL: 397.20001220703125\n",
      "E: 473, I: 6999, R10: -60.81, E30: -67.60, R100: -70.24, AEL: 373.1000061035156\n",
      "E: 481, I: 7199, R10: -74.62, E30: -79.55, R100: -68.57, AEL: 513.0\n",
      "E: 487, I: 7399, R10: -113.48, E30: -80.59, R100: -74.31, AEL: 638.4000244140625\n",
      "E: 494, I: 7599, R10: -23.53, E30: -69.34, R100: -67.54, AEL: 616.5999755859375\n",
      "E: 505, I: 7799, R10: -49.74, E30: -68.18, R100: -66.95, AEL: 387.3999938964844\n",
      "E: 511, I: 7999, R10: -11.26, E30: -50.03, R100: -66.63, AEL: 532.9000244140625\n",
      "E: 515, I: 8199, R10: 24.27, E30: -20.26, R100: -64.23, AEL: 770.5999755859375\n",
      "E: 521, I: 8399, R10: -8.58, E30: -31.72, R100: -61.85, AEL: 821.9000244140625\n",
      "E: 527, I: 8599, R10: -36.36, E30: -21.86, R100: -61.63, AEL: 664.2999877929688\n",
      "E: 531, I: 8799, R10: -16.37, E30: -12.07, R100: -55.53, AEL: 730.9000244140625\n",
      "E: 538, I: 8999, R10: -37.39, E30: -27.75, R100: -56.82, AEL: 622.2000122070312\n",
      "E: 544, I: 9199, R10: -57.22, E30: -37.48, R100: -51.46, AEL: 675.7999877929688\n",
      "E: 552, I: 9399, R10: -72.27, E30: -43.78, R100: -50.49, AEL: 590.0999755859375\n",
      "E: 559, I: 9599, R10: -67.09, E30: -60.11, R100: -49.56, AEL: 525.9000244140625\n",
      "E: 568, I: 9799, R10: -23.04, E30: -47.32, R100: -44.46, AEL: 438.29998779296875\n",
      "E: 575, I: 9999, R10: 11.54, E30: -35.90, R100: -41.30, AEL: 534.7000122070312\n",
      "E: 579, I: 10199, R10: 33.64, E30: -12.60, R100: -33.75, AEL: 653.7999877929688\n",
      "E: 586, I: 10399, R10: 45.73, E30: 3.37, R100: -24.55, AEL: 670.0\n",
      "E: 595, I: 10599, R10: -24.94, E30: 7.79, R100: -24.64, AEL: 560.2999877929688\n",
      "E: 601, I: 10799, R10: -51.80, E30: -2.12, R100: -22.26, AEL: 443.8999938964844\n",
      "E: 609, I: 10999, R10: -2.20, E30: -8.88, R100: -20.57, AEL: 491.6000061035156\n",
      "E: 619, I: 11199, R10: -66.28, E30: -37.00, R100: -26.43, AEL: 357.20001220703125\n",
      "E: 626, I: 11399, R10: -17.32, E30: -24.90, R100: -24.03, AEL: 471.3999938964844\n",
      "E: 638, I: 11599, R10: 37.10, E30: -9.55, R100: -16.67, AEL: 356.79998779296875\n",
      "E: 646, I: 11799, R10: -17.58, E30: 3.31, R100: -13.63, AEL: 436.5\n",
      "E: 652, I: 11999, R10: -34.09, E30: 11.45, R100: -10.28, AEL: 479.20001220703125\n",
      "E: 658, I: 12199, R10: -3.01, E30: 7.28, R100: -6.30, AEL: 596.7999877929688\n",
      "E: 666, I: 12399, R10: 16.67, E30: -4.86, R100: -2.34, AEL: 583.2999877929688\n",
      "E: 673, I: 12599, R10: -16.61, E30: -17.41, R100: -5.68, AEL: 457.6000061035156\n",
      "E: 678, I: 12799, R10: -18.03, E30: 0.64, R100: -5.60, AEL: 640.7000122070312\n",
      "E: 685, I: 12999, R10: -19.33, E30: -9.49, R100: -9.42, AEL: 666.5999755859375\n",
      "E: 690, I: 13199, R10: -31.22, E30: -15.46, R100: -12.23, AEL: 698.0\n",
      "E: 695, I: 13399, R10: 32.49, E30: -4.78, R100: -3.68, AEL: 737.0\n",
      "E: 700, I: 13599, R10: 112.53, E30: 18.63, R100: 3.79, AEL: 753.5999755859375\n",
      "E: 705, I: 13799, R10: 98.99, E30: 37.38, R100: 7.36, AEL: 802.0999755859375\n",
      "E: 710, I: 13999, R10: 83.19, E30: 54.84, R100: 12.09, AEL: 873.2000122070312\n",
      "E: 715, I: 14199, R10: 61.63, E30: 64.37, R100: 17.79, AEL: 783.7000122070312\n",
      "E: 723, I: 14399, R10: -2.21, E30: 54.55, R100: 18.41, AEL: 514.0999755859375\n",
      "E: 730, I: 14599, R10: -15.61, E30: 21.10, R100: 14.89, AEL: 570.5999755859375\n",
      "E: 736, I: 14799, R10: 43.61, E30: 22.85, R100: 16.50, AEL: 705.5\n",
      "E: 743, I: 14999, R10: 99.41, E30: 23.98, R100: 19.35, AEL: 554.4000244140625\n",
      "E: 752, I: 15199, R10: 10.26, E30: 27.43, R100: 22.85, AEL: 512.0999755859375\n",
      "E: 756, I: 15399, R10: 54.85, E30: 44.05, R100: 28.48, AEL: 654.7999877929688\n",
      "E: 761, I: 15599, R10: 59.01, E30: 47.07, R100: 27.08, AEL: 871.9000244140625\n",
      "E: 768, I: 15799, R10: 15.21, E30: 37.91, R100: 27.51, AEL: 670.4000244140625\n",
      "E: 772, I: 15999, R10: 56.01, E30: 36.83, R100: 33.86, AEL: 744.2999877929688\n",
      "E: 777, I: 16199, R10: 75.60, E30: 54.89, R100: 36.27, AEL: 873.4000244140625\n",
      "E: 787, I: 16399, R10: 100.43, E30: 63.11, R100: 47.02, AEL: 397.8999938964844\n",
      "E: 797, I: 16599, R10: 74.55, E30: 83.53, R100: 54.00, AEL: 440.5\n",
      "E: 803, I: 16799, R10: 123.85, E30: 106.21, R100: 57.18, AEL: 482.3999938964844\n",
      "E: 809, I: 16999, R10: 105.35, E30: 107.82, R100: 54.55, AEL: 660.2000122070312\n",
      "E: 813, I: 17199, R10: 19.28, E30: 89.77, R100: 51.68, AEL: 792.4000244140625\n",
      "E: 818, I: 17399, R10: -16.12, E30: 64.64, R100: 54.81, AEL: 810.7999877929688\n",
      "E: 823, I: 17599, R10: 54.33, E30: 65.82, R100: 57.33, AEL: 792.5\n",
      "E: 828, I: 17799, R10: 14.11, E30: 45.36, R100: 53.78, AEL: 814.0999755859375\n",
      "E: 833, I: 17999, R10: 33.25, E30: 35.62, R100: 63.18, AEL: 827.9000244140625\n",
      "E: 839, I: 18199, R10: 100.76, E30: 33.72, R100: 59.55, AEL: 718.9000244140625\n",
      "E: 845, I: 18399, R10: 115.46, E30: 69.99, R100: 64.76, AEL: 751.0999755859375\n",
      "E: 849, I: 18599, R10: 140.43, E30: 83.85, R100: 73.74, AEL: 785.7999877929688\n",
      "E: 855, I: 18799, R10: 54.64, E30: 72.95, R100: 67.11, AEL: 767.7999877929688\n",
      "E: 860, I: 18999, R10: 27.30, E30: 90.79, R100: 68.69, AEL: 743.7000122070312\n",
      "E: 864, I: 19199, R10: 61.42, E30: 70.31, R100: 71.75, AEL: 880.2000122070312\n",
      "E: 870, I: 19399, R10: 77.75, E30: 83.21, R100: 74.65, AEL: 824.7999877929688\n",
      "E: 876, I: 19599, R10: 111.78, E30: 74.24, R100: 75.61, AEL: 638.2000122070312\n",
      "E: 881, I: 19799, R10: 104.53, E30: 80.33, R100: 77.34, AEL: 642.7999877929688\n",
      "E: 887, I: 19999, R10: 139.06, E30: 98.93, R100: 78.55, AEL: 735.2000122070312\n",
      "E: 894, I: 20199, R10: 123.57, E30: 119.62, R100: 80.59, AEL: 671.2999877929688\n",
      "E: 901, I: 20399, R10: 168.41, E30: 127.86, R100: 83.49, AEL: 570.7999877929688\n",
      "E: 905, I: 20599, R10: 103.57, E30: 122.54, R100: 78.83, AEL: 686.9000244140625\n",
      "E: 911, I: 20799, R10: -30.58, E30: 82.82, R100: 73.09, AEL: 766.0999755859375\n",
      "E: 916, I: 20999, R10: 4.15, E30: 67.51, R100: 78.44, AEL: 750.5\n",
      "E: 923, I: 21199, R10: 96.05, E30: 73.01, R100: 80.38, AEL: 623.0999755859375\n",
      "E: 927, I: 21399, R10: 61.10, E30: 58.87, R100: 82.60, AEL: 682.9000244140625\n",
      "E: 933, I: 21599, R10: -4.25, E30: 22.19, R100: 76.63, AEL: 839.0\n",
      "E: 938, I: 21799, R10: -10.17, E30: 25.20, R100: 73.55, AEL: 710.9000244140625\n",
      "E: 942, I: 21999, R10: -30.56, E30: 27.70, R100: 67.67, AEL: 822.2999877929688\n",
      "E: 946, I: 22199, R10: -43.22, E30: 11.12, R100: 60.29, AEL: 826.5999755859375\n",
      "E: 950, I: 22399, R10: -50.63, E30: -8.10, R100: 53.67, AEL: 1000.0\n",
      "E: 954, I: 22599, R10: -43.37, E30: -25.71, R100: 53.77, AEL: 1000.0\n",
      "E: 959, I: 22799, R10: -9.23, E30: -23.41, R100: 50.54, AEL: 940.4000244140625\n",
      "E: 963, I: 22999, R10: 4.92, E30: -21.83, R100: 50.97, AEL: 909.7000122070312\n",
      "E: 967, I: 23199, R10: -3.86, E30: -29.81, R100: 44.42, AEL: 909.7000122070312\n",
      "E: 971, I: 23399, R10: -68.16, E30: -35.58, R100: 34.91, AEL: 1000.0\n",
      "E: 975, I: 23599, R10: -58.43, E30: -34.66, R100: 30.10, AEL: 1000.0\n",
      "E: 979, I: 23799, R10: -64.53, E30: -39.09, R100: 22.37, AEL: 1000.0\n",
      "E: 984, I: 23999, R10: -50.61, E30: -33.60, R100: 14.02, AEL: 965.0999755859375\n",
      "E: 988, I: 24199, R10: -44.67, E30: -49.37, R100: 7.86, AEL: 965.0999755859375\n",
      "E: 992, I: 24399, R10: -61.96, E30: -55.31, R100: 0.58, AEL: 1000.0\n",
      "E: 996, I: 24599, R10: -70.86, E30: -58.56, R100: -10.11, AEL: 1000.0\n",
      "E: 1000, I: 24799, R10: -79.48, E30: -58.61, R100: -17.89, AEL: 1000.0\n",
      "E: 1004, I: 24999, R10: -58.85, E30: -57.58, R100: -23.25, AEL: 937.7000122070312\n",
      "CPU times: user 1h 35min 23s, sys: 4min 24s, total: 1h 39min 48s\n",
      "Wall time: 1h 34min 38s\n"
     ]
    }
   ],
   "source": [
    "%%time\n",
    "\n",
    "train(agent, train_env, iterator, training_returns, training_timesteps)"
   ]
  },
  {
   "cell_type": "code",
   "execution_count": 72,
   "metadata": {},
   "outputs": [
    {
     "data": {
      "text/plain": [
       "125"
      ]
     },
     "execution_count": 72,
     "metadata": {},
     "output_type": "execute_result"
    }
   ],
   "source": [
    "len(training_returns)"
   ]
  },
  {
   "cell_type": "code",
   "execution_count": 73,
   "metadata": {},
   "outputs": [
    {
     "data": {
      "image/png": "[encoded data removed]",
      "text/plain": [
       "<Figure size 432x288 with 1 Axes>"
      ]
     },
     "metadata": {
      "needs_background": "light"
     },
     "output_type": "display_data"
    }
   ],
   "source": [
    "graph_returns(training_returns[50:], training_timesteps[50:])"
   ]
  },
  {
   "cell_type": "code",
   "execution_count": 74,
   "metadata": {},
   "outputs": [
    {
     "name": "stderr",
     "output_type": "stream",
     "text": [
      "WARNING:imageio_ffmpeg:IMAGEIO FFMPEG_WRITER WARNING: input image is not divisible by macro_block_size=16, resizing from (600, 400) to (608, 400) to ensure video compatibility with most codecs and players. To prevent resizing, make your input image divisible by the macro_block_size or set the macro_block_size to 1 (risking incompatibility).\n",
      "[swscaler @ 0x7f8cc00b8000] Warning: data is not aligned! This can lead to a speed loss\n"
     ]
    },
    {
     "name": "stdout",
     "output_type": "stream",
     "text": [
      "ep: 477\n",
      "ep: 1000\n",
      "ep: 1000\n",
      "ep: 1000\n",
      "ep: 627\n"
     ]
    },
    {
     "data": {
      "text/html": [
       "<video src=\"lunar-lander.mp4\" controls  >\n",
       "      Your browser does not support the <code>video</code> element.\n",
       "    </video>"
      ],
      "text/plain": [
       "<IPython.core.display.Video object>"
      ]
     },
     "execution_count": 74,
     "metadata": {},
     "output_type": "execute_result"
    }
   ],
   "source": [
    "create_policy_eval_video(agent.policy, eval_env, \"lunar-lander\")"
   ]
  },
  {
   "cell_type": "code",
   "execution_count": null,
   "metadata": {},
   "outputs": [],
   "source": []
  }
 ],
 "metadata": {
  "interpreter": {
   "hash": "49f76707e5413b80002d05f39c64eb054ab5c733abfce764de0913f5c1449f72"
  },
  "kernelspec": {
   "display_name": "Python 3.9.10 ('reinforcement-uN1m85U_')",
   "language": "python",
   "name": "python3"
  },
  "language_info": {
   "codemirror_mode": {
    "name": "ipython",
    "version": 3
   },
   "file_extension": ".py",
   "mimetype": "text/x-python",
   "name": "python",
   "nbconvert_exporter": "python",
   "pygments_lexer": "ipython3",
   "version": "3.9.16"
  },
  "orig_nbformat": 4
 },
 "nbformat": 4,
 "nbformat_minor": 2
}
